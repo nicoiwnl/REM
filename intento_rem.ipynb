{
 "cells": [
  {
   "cell_type": "code",
   "execution_count": 1,
   "metadata": {
    "ExecuteTime": {
     "end_time": "2024-12-31T12:00:56.020833Z",
     "start_time": "2024-12-31T12:00:54.438536Z"
    }
   },
   "outputs": [],
   "source": [
    "import polars as pl\n",
    "schema_overrides = {f'Col{i:02d}': pl.Float64 for i in range(1, 51)}\n",
    "df_datos = pl.read_csv(\"SerieA2023.csv\", separator=';', schema_overrides=schema_overrides)\n",
    "df_region = df_datos.filter(pl.col('IdRegion') == 7)\n"
   ]
  },
  {
   "cell_type": "code",
   "execution_count": 2,
   "metadata": {
    "ExecuteTime": {
     "end_time": "2024-12-31T12:00:56.382507Z",
     "start_time": "2024-12-31T12:00:56.036762Z"
    }
   },
   "outputs": [],
   "source": [
    "df_region.write_parquet('SerieA2023Maule.parquet')"
   ]
  },
  {
   "cell_type": "code",
   "execution_count": 3,
   "metadata": {
    "ExecuteTime": {
     "end_time": "2024-12-31T12:00:57.435709Z",
     "start_time": "2024-12-31T12:00:56.556147Z"
    }
   },
   "outputs": [],
   "source": [
    "import pandas as pd\n",
    "import numpy as np\n",
    "# Leer el archivo Excel\n",
    "df_diccionario = pd.read_excel(\"A01.xlsx\", skiprows=5)\n",
    "\n",
    "# Rellenar valores faltantes hacia adelante\n",
    "df_diccionario = df_diccionario.ffill(axis=0)\n",
    "df_diccionario = df_diccionario.ffill(axis=1)\n",
    "\n",
    "# Eliminar filas con menos de 3 valores no nulos\n",
    "df_diccionario.dropna(axis=0, thresh=3, inplace=True)\n",
    "\n",
    "# Limitar el DataFrame a las primeras 25 filas\n",
    "df_corte = df_diccionario.iloc[:25]\n",
    "\n",
    "# Establecer la primera fila como los nombres de las columnas y eliminar esa fila del DataFrame\n",
    "df_corte.columns = df_corte.iloc[0]\n",
    "df_corte = df_corte[1:]\n",
    "\n",
    "# Renombrar las primeras columnas\n",
    "listacol = df_corte.columns.tolist()\n",
    "listacol[0] = 'Codigo Prestacion'\n",
    "listacol[1] = 'Tipo Control'\n",
    "listacol[2] = 'Profesional'\n",
    "df_corte.columns = listacol\n",
    "\n",
    "df_corte = df_corte.iloc[:, :30]\n",
    "df_corte.iloc[0, 1] = np.nan\n",
    "df_corte.iloc[0, 2] = np.nan\n",
    "df_corte.iloc[1, 1] = np.nan\n",
    "df_corte.iloc[1, 2] = np.nan\n",
    "\n",
    "df_caract = df_corte.iloc[:3]\n",
    "df_corte = df_corte.iloc[2:]\n",
    "\n"
   ]
  },
  {
   "cell_type": "code",
   "execution_count": 4,
   "metadata": {
    "ExecuteTime": {
     "end_time": "2024-12-31T12:00:57.591059Z",
     "start_time": "2024-12-31T12:00:57.579051Z"
    }
   },
   "outputs": [],
   "source": [
    "df_caract = df_caract\n",
    "df_caract.iloc[0, 1] = np.nan\n",
    "df_caract.iloc[0, 2] = np.nan\n",
    "df_caract.iloc[1, 1] = np.nan\n",
    "df_caract.iloc[1, 2] = np.nan\n",
    "df_caract.iloc[2, 0] = np.nan\n",
    "df_caract.iloc[2, 1] = np.nan\n",
    "df_caract.iloc[2, 2] = np.nan\n",
    "df_caract.reset_index(drop=True, inplace=True)\n",
    "\n",
    "df_caract = df_caract.T\n",
    "# Renombrar las primeras columnas\n",
    "listacol = df_caract.columns.tolist()\n",
    "listacol[0] = 'Tipo de Caracteristica'\n",
    "listacol[1] = 'Caracteristica'\n",
    "listacol[2] = 'Atributo'\n",
    "df_caract.columns = listacol\n",
    "\n",
    "df_caract = df_caract.iloc[3:]   "
   ]
  },
  {
   "cell_type": "code",
   "execution_count": 5,
   "metadata": {
    "ExecuteTime": {
     "end_time": "2024-12-31T12:00:57.667112Z",
     "start_time": "2024-12-31T12:00:57.638092Z"
    }
   },
   "outputs": [
    {
     "data": {
      "text/html": [
       "<div><style>\n",
       ".dataframe > thead > tr,\n",
       ".dataframe > tbody > tr {\n",
       "  text-align: right;\n",
       "  white-space: pre-wrap;\n",
       "}\n",
       "</style>\n",
       "<small>shape: (567, 8)</small><table border=\"1\" class=\"dataframe\"><thead><tr><th>REM</th><th>Seccion</th><th>Codigo Prestacion</th><th>Tipo Control</th><th>Profesional</th><th>Tipo de Caracteristica</th><th>Caracteristica</th><th>Atributo</th></tr><tr><td>str</td><td>str</td><td>str</td><td>str</td><td>str</td><td>str</td><td>str</td><td>str</td></tr></thead><tbody><tr><td>&quot;REM01&quot;</td><td>&quot;SECCIÓN A: CONTROLES DE SALUD …</td><td>&quot;01010103&quot;</td><td>&quot;Pre-Concepcional&quot;</td><td>&quot;Matrona/ón&quot;</td><td>&quot;TOTAL&nbsp;&nbsp;&nbsp;&nbsp;&nbsp;&nbsp;&quot;</td><td>&quot;TOTAL&nbsp;&nbsp;&nbsp;&nbsp;&nbsp;&nbsp;&quot;</td><td>&quot;COL01&quot;</td></tr><tr><td>&quot;REM01&quot;</td><td>&quot;SECCIÓN A: CONTROLES DE SALUD …</td><td>&quot;01010201&quot;</td><td>&quot;Prenatal&quot;</td><td>&quot;Médico/a&quot;</td><td>&quot;TOTAL&nbsp;&nbsp;&nbsp;&nbsp;&nbsp;&nbsp;&quot;</td><td>&quot;TOTAL&nbsp;&nbsp;&nbsp;&nbsp;&nbsp;&nbsp;&quot;</td><td>&quot;COL01&quot;</td></tr><tr><td>&quot;REM01&quot;</td><td>&quot;SECCIÓN A: CONTROLES DE SALUD …</td><td>&quot;01010203&quot;</td><td>&quot;Prenatal&quot;</td><td>&quot;Matrona/ón&quot;</td><td>&quot;TOTAL&nbsp;&nbsp;&nbsp;&nbsp;&nbsp;&nbsp;&quot;</td><td>&quot;TOTAL&nbsp;&nbsp;&nbsp;&nbsp;&nbsp;&nbsp;&quot;</td><td>&quot;COL01&quot;</td></tr><tr><td>&quot;REM01&quot;</td><td>&quot;SECCIÓN A: CONTROLES DE SALUD …</td><td>&quot;01501050&quot;</td><td>&quot;Post Parto&quot;</td><td>&quot;Médico/a&quot;</td><td>&quot;TOTAL&nbsp;&nbsp;&nbsp;&nbsp;&nbsp;&nbsp;&quot;</td><td>&quot;TOTAL&nbsp;&nbsp;&nbsp;&nbsp;&nbsp;&nbsp;&quot;</td><td>&quot;COL01&quot;</td></tr><tr><td>&quot;REM01&quot;</td><td>&quot;SECCIÓN A: CONTROLES DE SALUD …</td><td>&quot;01501060&quot;</td><td>&quot;Post Parto&quot;</td><td>&quot;Matrona/ón&quot;</td><td>&quot;TOTAL&nbsp;&nbsp;&nbsp;&nbsp;&nbsp;&nbsp;&quot;</td><td>&quot;TOTAL&nbsp;&nbsp;&nbsp;&nbsp;&nbsp;&nbsp;&quot;</td><td>&quot;COL01&quot;</td></tr><tr><td>&hellip;</td><td>&hellip;</td><td>&hellip;</td><td>&hellip;</td><td>&hellip;</td><td>&hellip;</td><td>&hellip;</td><td>&hellip;</td></tr><tr><td>&quot;REM01&quot;</td><td>&quot;SECCIÓN A: CONTROLES DE SALUD …</td><td>&quot;01010603&quot;</td><td>&quot;Ginecológico&quot;</td><td>&quot;Matrona/ón&quot;</td><td>&quot;Migrantes&quot;</td><td>&quot;Migrantes&quot;</td><td>&quot;COL27&quot;</td></tr><tr><td>&quot;REM01&quot;</td><td>&quot;SECCIÓN A: CONTROLES DE SALUD …</td><td>&quot;01010901&quot;</td><td>&quot;Climaterio&quot;</td><td>&quot;Médico/a&quot;</td><td>&quot;Migrantes&quot;</td><td>&quot;Migrantes&quot;</td><td>&quot;COL27&quot;</td></tr><tr><td>&quot;REM01&quot;</td><td>&quot;SECCIÓN A: CONTROLES DE SALUD …</td><td>&quot;01010903&quot;</td><td>&quot;Climaterio&quot;</td><td>&quot;Matrona/ón&quot;</td><td>&quot;Migrantes&quot;</td><td>&quot;Migrantes&quot;</td><td>&quot;COL27&quot;</td></tr><tr><td>&quot;REM01&quot;</td><td>&quot;SECCIÓN A: CONTROLES DE SALUD …</td><td>&quot;01010401&quot;</td><td>&quot;Regulación de Fecundidad&quot;</td><td>&quot;Médico/a&quot;</td><td>&quot;Migrantes&quot;</td><td>&quot;Migrantes&quot;</td><td>&quot;COL27&quot;</td></tr><tr><td>&quot;REM01&quot;</td><td>&quot;SECCIÓN A: CONTROLES DE SALUD …</td><td>&quot;01010403&quot;</td><td>&quot;Regulación de Fecundidad&quot;</td><td>&quot;Matrona/ón&quot;</td><td>&quot;Migrantes&quot;</td><td>&quot;Migrantes&quot;</td><td>&quot;COL27&quot;</td></tr></tbody></table></div>"
      ],
      "text/plain": [
       "shape: (567, 8)\n",
       "┌───────┬─────────────┬─────────────┬────────────┬────────────┬────────────┬────────────┬──────────┐\n",
       "│ REM   ┆ Seccion     ┆ Codigo      ┆ Tipo       ┆ Profesiona ┆ Tipo de    ┆ Caracteris ┆ Atributo │\n",
       "│ ---   ┆ ---         ┆ Prestacion  ┆ Control    ┆ l          ┆ Caracteris ┆ tica       ┆ ---      │\n",
       "│ str   ┆ str         ┆ ---         ┆ ---        ┆ ---        ┆ tica       ┆ ---        ┆ str      │\n",
       "│       ┆             ┆ str         ┆ str        ┆ str        ┆ ---        ┆ str        ┆          │\n",
       "│       ┆             ┆             ┆            ┆            ┆ str        ┆            ┆          │\n",
       "╞═══════╪═════════════╪═════════════╪════════════╪════════════╪════════════╪════════════╪══════════╡\n",
       "│ REM01 ┆ SECCIÓN A:  ┆ 01010103    ┆ Pre-Concep ┆ Matrona/ón ┆ TOTAL      ┆ TOTAL      ┆ COL01    │\n",
       "│       ┆ CONTROLES   ┆             ┆ cional     ┆            ┆            ┆            ┆          │\n",
       "│       ┆ DE SALUD …  ┆             ┆            ┆            ┆            ┆            ┆          │\n",
       "│ REM01 ┆ SECCIÓN A:  ┆ 01010201    ┆ Prenatal   ┆ Médico/a   ┆ TOTAL      ┆ TOTAL      ┆ COL01    │\n",
       "│       ┆ CONTROLES   ┆             ┆            ┆            ┆            ┆            ┆          │\n",
       "│       ┆ DE SALUD …  ┆             ┆            ┆            ┆            ┆            ┆          │\n",
       "│ REM01 ┆ SECCIÓN A:  ┆ 01010203    ┆ Prenatal   ┆ Matrona/ón ┆ TOTAL      ┆ TOTAL      ┆ COL01    │\n",
       "│       ┆ CONTROLES   ┆             ┆            ┆            ┆            ┆            ┆          │\n",
       "│       ┆ DE SALUD …  ┆             ┆            ┆            ┆            ┆            ┆          │\n",
       "│ REM01 ┆ SECCIÓN A:  ┆ 01501050    ┆ Post Parto ┆ Médico/a   ┆ TOTAL      ┆ TOTAL      ┆ COL01    │\n",
       "│       ┆ CONTROLES   ┆             ┆            ┆            ┆            ┆            ┆          │\n",
       "│       ┆ DE SALUD …  ┆             ┆            ┆            ┆            ┆            ┆          │\n",
       "│ REM01 ┆ SECCIÓN A:  ┆ 01501060    ┆ Post Parto ┆ Matrona/ón ┆ TOTAL      ┆ TOTAL      ┆ COL01    │\n",
       "│       ┆ CONTROLES   ┆             ┆            ┆            ┆            ┆            ┆          │\n",
       "│       ┆ DE SALUD …  ┆             ┆            ┆            ┆            ┆            ┆          │\n",
       "│ …     ┆ …           ┆ …           ┆ …          ┆ …          ┆ …          ┆ …          ┆ …        │\n",
       "│ REM01 ┆ SECCIÓN A:  ┆ 01010603    ┆ Ginecológi ┆ Matrona/ón ┆ Migrantes  ┆ Migrantes  ┆ COL27    │\n",
       "│       ┆ CONTROLES   ┆             ┆ co         ┆            ┆            ┆            ┆          │\n",
       "│       ┆ DE SALUD …  ┆             ┆            ┆            ┆            ┆            ┆          │\n",
       "│ REM01 ┆ SECCIÓN A:  ┆ 01010901    ┆ Climaterio ┆ Médico/a   ┆ Migrantes  ┆ Migrantes  ┆ COL27    │\n",
       "│       ┆ CONTROLES   ┆             ┆            ┆            ┆            ┆            ┆          │\n",
       "│       ┆ DE SALUD …  ┆             ┆            ┆            ┆            ┆            ┆          │\n",
       "│ REM01 ┆ SECCIÓN A:  ┆ 01010903    ┆ Climaterio ┆ Matrona/ón ┆ Migrantes  ┆ Migrantes  ┆ COL27    │\n",
       "│       ┆ CONTROLES   ┆             ┆            ┆            ┆            ┆            ┆          │\n",
       "│       ┆ DE SALUD …  ┆             ┆            ┆            ┆            ┆            ┆          │\n",
       "│ REM01 ┆ SECCIÓN A:  ┆ 01010401    ┆ Regulación ┆ Médico/a   ┆ Migrantes  ┆ Migrantes  ┆ COL27    │\n",
       "│       ┆ CONTROLES   ┆             ┆ de         ┆            ┆            ┆            ┆          │\n",
       "│       ┆ DE SALUD …  ┆             ┆ Fecundidad ┆            ┆            ┆            ┆          │\n",
       "│ REM01 ┆ SECCIÓN A:  ┆ 01010403    ┆ Regulación ┆ Matrona/ón ┆ Migrantes  ┆ Migrantes  ┆ COL27    │\n",
       "│       ┆ CONTROLES   ┆             ┆ de         ┆            ┆            ┆            ┆          │\n",
       "│       ┆ DE SALUD …  ┆             ┆ Fecundidad ┆            ┆            ┆            ┆          │\n",
       "└───────┴─────────────┴─────────────┴────────────┴────────────┴────────────┴────────────┴──────────┘"
      ]
     },
     "execution_count": 5,
     "metadata": {},
     "output_type": "execute_result"
    }
   ],
   "source": [
    "df_melted = pd.melt(df_corte, id_vars=['Codigo Prestacion', 'Tipo Control', 'Profesional'], var_name='Columna', value_name='Atributo')\n",
    "\n",
    "# Crear mapeos para tipos de características y características basados en los atributos\n",
    "tipo_caracteristica_map = df_caract.set_index('Atributo')['Tipo de Caracteristica'].to_dict()\n",
    "caracteristica_map = df_caract.set_index('Atributo')['Caracteristica'].to_dict()\n",
    "\n",
    "# Mapear los tipos de características y características desde df_caract\n",
    "df_melted['Tipo de Caracteristica'] = df_melted['Atributo'].map(tipo_caracteristica_map)\n",
    "df_melted['Caracteristica'] = df_melted['Atributo'].map(caracteristica_map)\n",
    "# Agregar la columna 'Seccion'\n",
    "df_melted['Seccion'] = 'SECCIÓN A: CONTROLES DE SALUD SEXUAL Y REPRODUCTIVA'\n",
    "\n",
    "# Reordenar las columnas\n",
    "df_melted = df_melted[['Seccion', 'Codigo Prestacion', 'Tipo Control', 'Profesional', 'Tipo de Caracteristica', 'Caracteristica', 'Atributo']]\n",
    "df_melted.dropna(subset=['Codigo Prestacion'], inplace=True)\n",
    "\n",
    "# Crear la nueva columna 'REM' con valor 'REM01'\n",
    "df_melted['REM'] = 'REM01'\n",
    "\n",
    "# Reordenar las columnas para que 'REM' quede como la primera columna\n",
    "df_melted = df_melted[['REM', 'Seccion', 'Codigo Prestacion', 'Tipo Control', 'Profesional', 'Tipo de Caracteristica', 'Caracteristica', 'Atributo']]\n",
    "\n",
    "#df melted a polar\n",
    "df_melted = pl.DataFrame(df_melted)\n",
    "df_melted "
   ]
  },
  {
   "cell_type": "code",
   "execution_count": 8,
   "metadata": {},
   "outputs": [
    {
     "data": {
      "text/html": [
       "<div><style>\n",
       ".dataframe > thead > tr,\n",
       ".dataframe > tbody > tr {\n",
       "  text-align: right;\n",
       "  white-space: pre-wrap;\n",
       "}\n",
       "</style>\n",
       "<small>shape: (523_493, 57)</small><table border=\"1\" class=\"dataframe\"><thead><tr><th>Mes</th><th>IdServicio</th><th>Ano</th><th>IdEstablecimiento</th><th>CodigoPrestacion</th><th>IdRegion</th><th>IdComuna</th><th>Col01</th><th>Col02</th><th>Col03</th><th>Col04</th><th>Col05</th><th>Col06</th><th>Col07</th><th>Col08</th><th>Col09</th><th>Col10</th><th>Col11</th><th>Col12</th><th>Col13</th><th>Col14</th><th>Col15</th><th>Col16</th><th>Col17</th><th>Col18</th><th>Col19</th><th>Col20</th><th>Col21</th><th>Col22</th><th>Col23</th><th>Col24</th><th>Col25</th><th>Col26</th><th>Col27</th><th>Col28</th><th>Col29</th><th>Col30</th><th>Col31</th><th>Col32</th><th>Col33</th><th>Col34</th><th>Col35</th><th>Col36</th><th>Col37</th><th>Col38</th><th>Col39</th><th>Col40</th><th>Col41</th><th>Col42</th><th>Col43</th><th>Col44</th><th>Col45</th><th>Col46</th><th>Col47</th><th>Col48</th><th>Col49</th><th>Col50</th></tr><tr><td>i64</td><td>i64</td><td>i64</td><td>i64</td><td>str</td><td>i64</td><td>i64</td><td>f64</td><td>f64</td><td>f64</td><td>f64</td><td>f64</td><td>f64</td><td>f64</td><td>f64</td><td>f64</td><td>f64</td><td>f64</td><td>f64</td><td>f64</td><td>f64</td><td>f64</td><td>f64</td><td>f64</td><td>f64</td><td>f64</td><td>f64</td><td>f64</td><td>f64</td><td>f64</td><td>f64</td><td>f64</td><td>f64</td><td>f64</td><td>f64</td><td>f64</td><td>f64</td><td>f64</td><td>f64</td><td>f64</td><td>f64</td><td>f64</td><td>f64</td><td>f64</td><td>f64</td><td>f64</td><td>f64</td><td>f64</td><td>f64</td><td>f64</td><td>f64</td><td>f64</td><td>f64</td><td>f64</td><td>f64</td><td>f64</td><td>f64</td></tr></thead><tbody><tr><td>8</td><td>16</td><td>2023</td><td>116111</td><td>&quot;04025010&quot;</td><td>7</td><td>7201</td><td>5.0</td><td>2.0</td><td>3.0</td><td>null</td><td>null</td><td>null</td><td>null</td><td>null</td><td>null</td><td>null</td><td>null</td><td>null</td><td>1.0</td><td>2.0</td><td>1.0</td><td>null</td><td>null</td><td>null</td><td>null</td><td>null</td><td>null</td><td>null</td><td>null</td><td>null</td><td>null</td><td>null</td><td>null</td><td>null</td><td>1.0</td><td>null</td><td>null</td><td>null</td><td>null</td><td>null</td><td>null</td><td>null</td><td>null</td><td>null</td><td>null</td><td>0.0</td><td>0.0</td><td>0.0</td><td>0.0</td><td>0.0</td><td>null</td><td>null</td><td>null</td><td>null</td><td>null</td><td>null</td></tr><tr><td>7</td><td>16</td><td>2023</td><td>116829</td><td>&quot;08230802&quot;</td><td>7</td><td>7201</td><td>1034.0</td><td>null</td><td>null</td><td>null</td><td>null</td><td>null</td><td>null</td><td>null</td><td>null</td><td>null</td><td>null</td><td>null</td><td>null</td><td>null</td><td>null</td><td>null</td><td>null</td><td>null</td><td>null</td><td>null</td><td>null</td><td>null</td><td>null</td><td>null</td><td>null</td><td>null</td><td>null</td><td>null</td><td>null</td><td>null</td><td>null</td><td>null</td><td>null</td><td>null</td><td>null</td><td>null</td><td>null</td><td>null</td><td>null</td><td>null</td><td>null</td><td>null</td><td>null</td><td>null</td><td>null</td><td>null</td><td>null</td><td>null</td><td>null</td><td>null</td></tr><tr><td>7</td><td>16</td><td>2023</td><td>116829</td><td>&quot;08230803&quot;</td><td>7</td><td>7201</td><td>13.0</td><td>null</td><td>null</td><td>null</td><td>null</td><td>null</td><td>null</td><td>null</td><td>null</td><td>null</td><td>null</td><td>null</td><td>null</td><td>null</td><td>null</td><td>null</td><td>null</td><td>null</td><td>null</td><td>null</td><td>null</td><td>null</td><td>null</td><td>null</td><td>null</td><td>null</td><td>null</td><td>null</td><td>null</td><td>null</td><td>null</td><td>null</td><td>null</td><td>null</td><td>null</td><td>null</td><td>null</td><td>null</td><td>null</td><td>null</td><td>null</td><td>null</td><td>null</td><td>null</td><td>null</td><td>null</td><td>null</td><td>null</td><td>null</td><td>null</td></tr><tr><td>7</td><td>16</td><td>2023</td><td>116829</td><td>&quot;08230812&quot;</td><td>7</td><td>7201</td><td>1.0</td><td>0.0</td><td>1.0</td><td>null</td><td>null</td><td>null</td><td>null</td><td>null</td><td>null</td><td>null</td><td>null</td><td>null</td><td>1.0</td><td>null</td><td>null</td><td>null</td><td>null</td><td>null</td><td>null</td><td>null</td><td>null</td><td>null</td><td>null</td><td>null</td><td>null</td><td>null</td><td>null</td><td>null</td><td>null</td><td>null</td><td>null</td><td>null</td><td>null</td><td>null</td><td>null</td><td>null</td><td>null</td><td>null</td><td>null</td><td>null</td><td>null</td><td>null</td><td>null</td><td>null</td><td>null</td><td>null</td><td>null</td><td>null</td><td>null</td><td>null</td></tr><tr><td>7</td><td>16</td><td>2023</td><td>116829</td><td>&quot;08224000&quot;</td><td>7</td><td>7201</td><td>14.0</td><td>12.0</td><td>2.0</td><td>null</td><td>null</td><td>3.0</td><td>null</td><td>null</td><td>null</td><td>2.0</td><td>null</td><td>5.0</td><td>null</td><td>1.0</td><td>1.0</td><td>1.0</td><td>1.0</td><td>null</td><td>null</td><td>null</td><td>null</td><td>null</td><td>null</td><td>null</td><td>null</td><td>null</td><td>null</td><td>null</td><td>null</td><td>null</td><td>null</td><td>null</td><td>null</td><td>null</td><td>null</td><td>null</td><td>null</td><td>null</td><td>null</td><td>null</td><td>null</td><td>null</td><td>null</td><td>null</td><td>null</td><td>null</td><td>null</td><td>null</td><td>null</td><td>null</td></tr><tr><td>&hellip;</td><td>&hellip;</td><td>&hellip;</td><td>&hellip;</td><td>&hellip;</td><td>&hellip;</td><td>&hellip;</td><td>&hellip;</td><td>&hellip;</td><td>&hellip;</td><td>&hellip;</td><td>&hellip;</td><td>&hellip;</td><td>&hellip;</td><td>&hellip;</td><td>&hellip;</td><td>&hellip;</td><td>&hellip;</td><td>&hellip;</td><td>&hellip;</td><td>&hellip;</td><td>&hellip;</td><td>&hellip;</td><td>&hellip;</td><td>&hellip;</td><td>&hellip;</td><td>&hellip;</td><td>&hellip;</td><td>&hellip;</td><td>&hellip;</td><td>&hellip;</td><td>&hellip;</td><td>&hellip;</td><td>&hellip;</td><td>&hellip;</td><td>&hellip;</td><td>&hellip;</td><td>&hellip;</td><td>&hellip;</td><td>&hellip;</td><td>&hellip;</td><td>&hellip;</td><td>&hellip;</td><td>&hellip;</td><td>&hellip;</td><td>&hellip;</td><td>&hellip;</td><td>&hellip;</td><td>&hellip;</td><td>&hellip;</td><td>&hellip;</td><td>&hellip;</td><td>&hellip;</td><td>&hellip;</td><td>&hellip;</td><td>&hellip;</td><td>&hellip;</td></tr><tr><td>9</td><td>16</td><td>2023</td><td>116306</td><td>&quot;27280400&quot;</td><td>7</td><td>7101</td><td>33.0</td><td>null</td><td>null</td><td>null</td><td>null</td><td>null</td><td>null</td><td>null</td><td>null</td><td>null</td><td>null</td><td>null</td><td>null</td><td>null</td><td>null</td><td>null</td><td>1.0</td><td>9.0</td><td>11.0</td><td>12.0</td><td>null</td><td>null</td><td>null</td><td>null</td><td>null</td><td>null</td><td>null</td><td>null</td><td>null</td><td>null</td><td>null</td><td>null</td><td>null</td><td>null</td><td>null</td><td>null</td><td>null</td><td>null</td><td>null</td><td>null</td><td>null</td><td>null</td><td>null</td><td>null</td><td>null</td><td>null</td><td>null</td><td>null</td><td>null</td><td>null</td></tr><tr><td>9</td><td>16</td><td>2023</td><td>116306</td><td>&quot;27500250&quot;</td><td>7</td><td>7101</td><td>16.0</td><td>null</td><td>null</td><td>null</td><td>null</td><td>null</td><td>null</td><td>null</td><td>null</td><td>null</td><td>null</td><td>null</td><td>null</td><td>5.0</td><td>5.0</td><td>4.0</td><td>2.0</td><td>null</td><td>null</td><td>null</td><td>null</td><td>null</td><td>null</td><td>null</td><td>0.0</td><td>0.0</td><td>0.0</td><td>0.0</td><td>null</td><td>null</td><td>null</td><td>null</td><td>null</td><td>null</td><td>null</td><td>null</td><td>null</td><td>null</td><td>null</td><td>null</td><td>null</td><td>null</td><td>null</td><td>null</td><td>null</td><td>null</td><td>null</td><td>null</td><td>null</td><td>null</td></tr><tr><td>9</td><td>16</td><td>2023</td><td>116306</td><td>&quot;27300918&quot;</td><td>7</td><td>7101</td><td>30.0</td><td>null</td><td>null</td><td>null</td><td>null</td><td>null</td><td>30.0</td><td>null</td><td>null</td><td>null</td><td>null</td><td>null</td><td>null</td><td>null</td><td>null</td><td>null</td><td>null</td><td>null</td><td>null</td><td>null</td><td>null</td><td>0.0</td><td>0.0</td><td>0.0</td><td>0.0</td><td>0.0</td><td>0.0</td><td>0.0</td><td>null</td><td>null</td><td>null</td><td>null</td><td>null</td><td>null</td><td>null</td><td>null</td><td>null</td><td>null</td><td>null</td><td>null</td><td>null</td><td>null</td><td>null</td><td>null</td><td>null</td><td>null</td><td>null</td><td>null</td><td>null</td><td>null</td></tr><tr><td>9</td><td>16</td><td>2023</td><td>116306</td><td>&quot;27300902&quot;</td><td>7</td><td>7101</td><td>4.0</td><td>4.0</td><td>null</td><td>null</td><td>null</td><td>null</td><td>null</td><td>null</td><td>null</td><td>null</td><td>null</td><td>null</td><td>null</td><td>null</td><td>null</td><td>null</td><td>null</td><td>null</td><td>null</td><td>null</td><td>null</td><td>null</td><td>null</td><td>null</td><td>0.0</td><td>0.0</td><td>0.0</td><td>0.0</td><td>null</td><td>null</td><td>null</td><td>null</td><td>null</td><td>null</td><td>null</td><td>null</td><td>null</td><td>null</td><td>null</td><td>null</td><td>null</td><td>null</td><td>null</td><td>null</td><td>null</td><td>null</td><td>null</td><td>null</td><td>null</td><td>null</td></tr><tr><td>9</td><td>16</td><td>2023</td><td>116306</td><td>&quot;27300903&quot;</td><td>7</td><td>7101</td><td>4.0</td><td>4.0</td><td>null</td><td>null</td><td>null</td><td>null</td><td>null</td><td>null</td><td>null</td><td>null</td><td>null</td><td>null</td><td>null</td><td>null</td><td>null</td><td>null</td><td>null</td><td>null</td><td>null</td><td>null</td><td>null</td><td>null</td><td>null</td><td>null</td><td>0.0</td><td>0.0</td><td>0.0</td><td>0.0</td><td>null</td><td>null</td><td>null</td><td>null</td><td>null</td><td>null</td><td>null</td><td>null</td><td>null</td><td>null</td><td>null</td><td>null</td><td>null</td><td>null</td><td>null</td><td>null</td><td>null</td><td>null</td><td>null</td><td>null</td><td>null</td><td>null</td></tr></tbody></table></div>"
      ],
      "text/plain": [
       "shape: (523_493, 57)\n",
       "┌─────┬────────────┬──────┬───────────────────┬───┬───────┬───────┬───────┬───────┐\n",
       "│ Mes ┆ IdServicio ┆ Ano  ┆ IdEstablecimiento ┆ … ┆ Col47 ┆ Col48 ┆ Col49 ┆ Col50 │\n",
       "│ --- ┆ ---        ┆ ---  ┆ ---               ┆   ┆ ---   ┆ ---   ┆ ---   ┆ ---   │\n",
       "│ i64 ┆ i64        ┆ i64  ┆ i64               ┆   ┆ f64   ┆ f64   ┆ f64   ┆ f64   │\n",
       "╞═════╪════════════╪══════╪═══════════════════╪═══╪═══════╪═══════╪═══════╪═══════╡\n",
       "│ 8   ┆ 16         ┆ 2023 ┆ 116111            ┆ … ┆ null  ┆ null  ┆ null  ┆ null  │\n",
       "│ 7   ┆ 16         ┆ 2023 ┆ 116829            ┆ … ┆ null  ┆ null  ┆ null  ┆ null  │\n",
       "│ 7   ┆ 16         ┆ 2023 ┆ 116829            ┆ … ┆ null  ┆ null  ┆ null  ┆ null  │\n",
       "│ 7   ┆ 16         ┆ 2023 ┆ 116829            ┆ … ┆ null  ┆ null  ┆ null  ┆ null  │\n",
       "│ 7   ┆ 16         ┆ 2023 ┆ 116829            ┆ … ┆ null  ┆ null  ┆ null  ┆ null  │\n",
       "│ …   ┆ …          ┆ …    ┆ …                 ┆ … ┆ …     ┆ …     ┆ …     ┆ …     │\n",
       "│ 9   ┆ 16         ┆ 2023 ┆ 116306            ┆ … ┆ null  ┆ null  ┆ null  ┆ null  │\n",
       "│ 9   ┆ 16         ┆ 2023 ┆ 116306            ┆ … ┆ null  ┆ null  ┆ null  ┆ null  │\n",
       "│ 9   ┆ 16         ┆ 2023 ┆ 116306            ┆ … ┆ null  ┆ null  ┆ null  ┆ null  │\n",
       "│ 9   ┆ 16         ┆ 2023 ┆ 116306            ┆ … ┆ null  ┆ null  ┆ null  ┆ null  │\n",
       "│ 9   ┆ 16         ┆ 2023 ┆ 116306            ┆ … ┆ null  ┆ null  ┆ null  ┆ null  │\n",
       "└─────┴────────────┴──────┴───────────────────┴───┴───────┴───────┴───────┴───────┘"
      ]
     },
     "execution_count": 8,
     "metadata": {},
     "output_type": "execute_result"
    }
   ],
   "source": [
    "df_region"
   ]
  },
  {
   "cell_type": "code",
   "execution_count": 9,
   "metadata": {},
   "outputs": [
    {
     "name": "stderr",
     "output_type": "stream",
     "text": [
      "C:\\Users\\jsotoletelier\\AppData\\Local\\Temp\\ipykernel_12088\\861509459.py:7: DeprecationWarning: `DataFrame.melt` is deprecated. Use `unpivot` instead, with `index` instead of `id_vars` and `on` instead of `value_vars`\n",
      "  df_region = df_region.melt(\n"
     ]
    }
   ],
   "source": [
    "import polars as pl\n",
    "\n",
    "# Identificar columnas dinámicas que comienzan con 'Col'\n",
    "columnas_dinamicas = [col for col in df_region.columns if col.startswith('Col')]\n",
    "\n",
    "# Transformar df_datos a formato largo, conservando las columnas relevantes\n",
    "df_region = df_region.melt(\n",
    "    id_vars=['Mes', 'IdServicio', 'Ano', 'IdEstablecimiento', 'CodigoPrestacion', 'IdRegion', 'IdComuna'],\n",
    "    value_vars=columnas_dinamicas,\n",
    "    variable_name='Variable',\n",
    "    value_name='Cantidad'\n",
    ")\n",
    "\n",
    "# Obtener valores únicos de la columna 'IdEstablecimiento'\n",
    "id_establecimientos_unicos = df_region.select('IdEstablecimiento').unique()\n",
    "\n",
    "# Mostrar los valores únicos\n",
    "\n",
    "#print(id_establecimientos_unicos)\n",
    "\n",
    "# Saber si el establecimiento 116101 existe en el DataFrame\n",
    "existe_establecimiento = 116101 in id_establecimientos_unicos['IdEstablecimiento']\n",
    "#print(existe_establecimiento)\n",
    "\n",
    "# Filtrar el DataFrame para el IdEstablecimiento específico\n",
    "df_region_filtered = df_region.filter(pl.col('IdEstablecimiento') == 116101)\n",
    "\n",
    "# Agregar columna 'PK' al DataFrame filtrado\n",
    "df_region_filtered = df_region_filtered.with_columns(\n",
    "    (\n",
    "        pl.col('IdEstablecimiento').cast(str) +\n",
    "        pl.col('CodigoPrestacion').cast(str).str.strip_chars('0') +  # Usar strip_chars para eliminar ceros a la izquierda\n",
    "        pl.col('Variable').str.to_uppercase()\n",
    "    ).alias('PK')\n",
    ")\n",
    "for IdEstablecimiento in df_region_filtered['IdEstablecimiento'].unique().to_list():\n",
    "    df_melted = df_melted.with_columns(\n",
    "        (\n",
    "            pl.lit(IdEstablecimiento).cast(str) +\n",
    "            pl.col('Codigo Prestacion').cast(str).str.strip_chars('0') +  # Usar strip_chars para eliminar ceros a la izquierda\n",
    "            pl.col('Atributo').str.to_uppercase()\n",
    "        ).alias('PK')\n",
    "    )\n",
    "\n",
    "# Crear una lista para almacenar resultados parciales\n",
    "result_list = []\n",
    "\n",
    "# Iterar sobre cada 'IdEstablecimiento'\n",
    "for id_establecimiento in id_establecimientos_unicos['IdEstablecimiento'].to_list():\n",
    "   #print(f'Procesando establecimiento {id_establecimiento}...')\n",
    "\n",
    "    # Filtrar el DataFrame para el establecimiento actual\n",
    "    df_melted = df_region_filtered.filter(pl.col('IdEstablecimiento') == id_establecimiento)\n",
    "\n",
    "    # Crear la columna 'PK' en df_melted\n",
    "    df_melted = df_melted.with_columns(\n",
    "        (\n",
    "            pl.lit(id_establecimiento).cast(str) +\n",
    "            pl.col('CodigoPrestacion').cast(str).str.strip_chars('0') +  # Usar strip_chars para eliminar ceros a la izquierda\n",
    "            pl.col('Variable').str.to_uppercase()\n",
    "        ).alias('PK')\n",
    "    )\n",
    "\n",
    "    # Realizar la combinación directamente\n",
    "    df_partial = df_region_filtered.join(df_melted, on='PK', how='inner')\n",
    "\n",
    "    # Agregar el resultado parcial a la lista\n",
    "    result_list.append(df_partial)\n",
    "\n",
    "# Concatenar todos los resultados parciales en un solo DataFrame\n",
    "df_final = pl.concat(result_list, how='vertical')\n"
   ]
  },
  {
   "cell_type": "code",
   "execution_count": 10,
   "metadata": {},
   "outputs": [
    {
     "data": {
      "text/html": [
       "<div><style>\n",
       ".dataframe > thead > tr,\n",
       ".dataframe > tbody > tr {\n",
       "  text-align: right;\n",
       "  white-space: pre-wrap;\n",
       "}\n",
       "</style>\n",
       "<small>shape: (2_361_250, 19)</small><table border=\"1\" class=\"dataframe\"><thead><tr><th>Mes</th><th>IdServicio</th><th>Ano</th><th>IdEstablecimiento</th><th>CodigoPrestacion</th><th>IdRegion</th><th>IdComuna</th><th>Variable</th><th>Cantidad</th><th>PK</th><th>Mes_right</th><th>IdServicio_right</th><th>Ano_right</th><th>IdEstablecimiento_right</th><th>CodigoPrestacion_right</th><th>IdRegion_right</th><th>IdComuna_right</th><th>Variable_right</th><th>Cantidad_right</th></tr><tr><td>i64</td><td>i64</td><td>i64</td><td>i64</td><td>str</td><td>i64</td><td>i64</td><td>str</td><td>f64</td><td>str</td><td>i64</td><td>i64</td><td>i64</td><td>i64</td><td>str</td><td>i64</td><td>i64</td><td>str</td><td>f64</td></tr></thead><tbody><tr><td>4</td><td>16</td><td>2023</td><td>116101</td><td>&quot;23090620&quot;</td><td>7</td><td>7308</td><td>&quot;Col01&quot;</td><td>10.0</td><td>&quot;1161012309062COL01&quot;</td><td>4</td><td>16</td><td>2023</td><td>116101</td><td>&quot;23090620&quot;</td><td>7</td><td>7308</td><td>&quot;Col01&quot;</td><td>10.0</td></tr><tr><td>10</td><td>16</td><td>2023</td><td>116101</td><td>&quot;23090620&quot;</td><td>7</td><td>7308</td><td>&quot;Col01&quot;</td><td>96.0</td><td>&quot;1161012309062COL01&quot;</td><td>4</td><td>16</td><td>2023</td><td>116101</td><td>&quot;23090620&quot;</td><td>7</td><td>7308</td><td>&quot;Col01&quot;</td><td>10.0</td></tr><tr><td>9</td><td>16</td><td>2023</td><td>116101</td><td>&quot;23090620&quot;</td><td>7</td><td>7308</td><td>&quot;Col01&quot;</td><td>76.0</td><td>&quot;1161012309062COL01&quot;</td><td>4</td><td>16</td><td>2023</td><td>116101</td><td>&quot;23090620&quot;</td><td>7</td><td>7308</td><td>&quot;Col01&quot;</td><td>10.0</td></tr><tr><td>11</td><td>16</td><td>2023</td><td>116101</td><td>&quot;23090620&quot;</td><td>7</td><td>7308</td><td>&quot;Col01&quot;</td><td>114.0</td><td>&quot;1161012309062COL01&quot;</td><td>4</td><td>16</td><td>2023</td><td>116101</td><td>&quot;23090620&quot;</td><td>7</td><td>7308</td><td>&quot;Col01&quot;</td><td>10.0</td></tr><tr><td>1</td><td>16</td><td>2023</td><td>116101</td><td>&quot;23090620&quot;</td><td>7</td><td>7308</td><td>&quot;Col01&quot;</td><td>14.0</td><td>&quot;1161012309062COL01&quot;</td><td>4</td><td>16</td><td>2023</td><td>116101</td><td>&quot;23090620&quot;</td><td>7</td><td>7308</td><td>&quot;Col01&quot;</td><td>10.0</td></tr><tr><td>&hellip;</td><td>&hellip;</td><td>&hellip;</td><td>&hellip;</td><td>&hellip;</td><td>&hellip;</td><td>&hellip;</td><td>&hellip;</td><td>&hellip;</td><td>&hellip;</td><td>&hellip;</td><td>&hellip;</td><td>&hellip;</td><td>&hellip;</td><td>&hellip;</td><td>&hellip;</td><td>&hellip;</td><td>&hellip;</td><td>&hellip;</td></tr><tr><td>5</td><td>16</td><td>2023</td><td>116101</td><td>&quot;01110107&quot;</td><td>7</td><td>7308</td><td>&quot;Col50&quot;</td><td>null</td><td>&quot;1161011110107COL50&quot;</td><td>6</td><td>16</td><td>2023</td><td>116101</td><td>&quot;01110107&quot;</td><td>7</td><td>7308</td><td>&quot;Col50&quot;</td><td>null</td></tr><tr><td>9</td><td>16</td><td>2023</td><td>116101</td><td>&quot;01110107&quot;</td><td>7</td><td>7308</td><td>&quot;Col50&quot;</td><td>null</td><td>&quot;1161011110107COL50&quot;</td><td>6</td><td>16</td><td>2023</td><td>116101</td><td>&quot;01110107&quot;</td><td>7</td><td>7308</td><td>&quot;Col50&quot;</td><td>null</td></tr><tr><td>7</td><td>16</td><td>2023</td><td>116101</td><td>&quot;01110107&quot;</td><td>7</td><td>7308</td><td>&quot;Col50&quot;</td><td>null</td><td>&quot;1161011110107COL50&quot;</td><td>6</td><td>16</td><td>2023</td><td>116101</td><td>&quot;01110107&quot;</td><td>7</td><td>7308</td><td>&quot;Col50&quot;</td><td>null</td></tr><tr><td>1</td><td>16</td><td>2023</td><td>116101</td><td>&quot;01110107&quot;</td><td>7</td><td>7308</td><td>&quot;Col50&quot;</td><td>null</td><td>&quot;1161011110107COL50&quot;</td><td>6</td><td>16</td><td>2023</td><td>116101</td><td>&quot;01110107&quot;</td><td>7</td><td>7308</td><td>&quot;Col50&quot;</td><td>null</td></tr><tr><td>6</td><td>16</td><td>2023</td><td>116101</td><td>&quot;01110107&quot;</td><td>7</td><td>7308</td><td>&quot;Col50&quot;</td><td>null</td><td>&quot;1161011110107COL50&quot;</td><td>6</td><td>16</td><td>2023</td><td>116101</td><td>&quot;01110107&quot;</td><td>7</td><td>7308</td><td>&quot;Col50&quot;</td><td>null</td></tr></tbody></table></div>"
      ],
      "text/plain": [
       "shape: (2_361_250, 19)\n",
       "┌─────┬────────────┬──────┬─────────────┬───┬─────────────┬─────────────┬─────────────┬────────────┐\n",
       "│ Mes ┆ IdServicio ┆ Ano  ┆ IdEstableci ┆ … ┆ IdRegion_ri ┆ IdComuna_ri ┆ Variable_ri ┆ Cantidad_r │\n",
       "│ --- ┆ ---        ┆ ---  ┆ miento      ┆   ┆ ght         ┆ ght         ┆ ght         ┆ ight       │\n",
       "│ i64 ┆ i64        ┆ i64  ┆ ---         ┆   ┆ ---         ┆ ---         ┆ ---         ┆ ---        │\n",
       "│     ┆            ┆      ┆ i64         ┆   ┆ i64         ┆ i64         ┆ str         ┆ f64        │\n",
       "╞═════╪════════════╪══════╪═════════════╪═══╪═════════════╪═════════════╪═════════════╪════════════╡\n",
       "│ 4   ┆ 16         ┆ 2023 ┆ 116101      ┆ … ┆ 7           ┆ 7308        ┆ Col01       ┆ 10.0       │\n",
       "│ 10  ┆ 16         ┆ 2023 ┆ 116101      ┆ … ┆ 7           ┆ 7308        ┆ Col01       ┆ 10.0       │\n",
       "│ 9   ┆ 16         ┆ 2023 ┆ 116101      ┆ … ┆ 7           ┆ 7308        ┆ Col01       ┆ 10.0       │\n",
       "│ 11  ┆ 16         ┆ 2023 ┆ 116101      ┆ … ┆ 7           ┆ 7308        ┆ Col01       ┆ 10.0       │\n",
       "│ 1   ┆ 16         ┆ 2023 ┆ 116101      ┆ … ┆ 7           ┆ 7308        ┆ Col01       ┆ 10.0       │\n",
       "│ …   ┆ …          ┆ …    ┆ …           ┆ … ┆ …           ┆ …           ┆ …           ┆ …          │\n",
       "│ 5   ┆ 16         ┆ 2023 ┆ 116101      ┆ … ┆ 7           ┆ 7308        ┆ Col50       ┆ null       │\n",
       "│ 9   ┆ 16         ┆ 2023 ┆ 116101      ┆ … ┆ 7           ┆ 7308        ┆ Col50       ┆ null       │\n",
       "│ 7   ┆ 16         ┆ 2023 ┆ 116101      ┆ … ┆ 7           ┆ 7308        ┆ Col50       ┆ null       │\n",
       "│ 1   ┆ 16         ┆ 2023 ┆ 116101      ┆ … ┆ 7           ┆ 7308        ┆ Col50       ┆ null       │\n",
       "│ 6   ┆ 16         ┆ 2023 ┆ 116101      ┆ … ┆ 7           ┆ 7308        ┆ Col50       ┆ null       │\n",
       "└─────┴────────────┴──────┴─────────────┴───┴─────────────┴─────────────┴─────────────┴────────────┘"
      ]
     },
     "execution_count": 10,
     "metadata": {},
     "output_type": "execute_result"
    }
   ],
   "source": [
    "df_final"
   ]
  },
  {
   "cell_type": "code",
   "execution_count": null,
   "metadata": {},
   "outputs": [],
   "source": [
    "import pandas as pd\n",
    "import psycopg2\n",
    "from sqlalchemy import create_engine\n",
    "\n",
    "# Crear una conexión a la base de datos PostgreSQL\n",
    "engine = create_engine('postgresql+psycopg2://postgres:@localhost:5432/REM')\n",
    "\n",
    "# Supongamos que df_final es tu DataFrame de Polars convertido a Pandas\n",
    "df_final = df_final.to_pandas()\n",
    "\n",
    "# Enviar los datos a una tabla en PostgreSQL\n",
    "df_final.to_sql('A01SA_REM', engine, if_exists='replace', index=False)\n",
    "\n",
    "print(\"Datos enviados a la base de datos PostgreSQL con éxito.\")"
   ]
  },
  {
   "cell_type": "code",
   "execution_count": null,
   "metadata": {
    "ExecuteTime": {
     "start_time": "2024-12-31T12:00:59.234270Z"
    },
    "jupyter": {
     "is_executing": true
    }
   },
   "outputs": [],
   "source": [
    "#IMPORTANTE NO CORRER ESTA CELDA SI NO ES PARA TODOS LOS ESTABLECIMIENTOS\n",
    "#funcion para todos los establecimientos\n",
    "\n",
    "import polars as pl\n",
    "\n",
    "# Agregar columna 'PK' al DataFrame original de una vez\n",
    "df_region = df_region.with_columns(\n",
    "    (\n",
    "        pl.col('IdEstablecimiento').cast(str) +\n",
    "        pl.col('CodigoPrestacion').cast(str).str.strip_chars('0') +  # Usar strip_chars para eliminar ceros a la izquierda\n",
    "        pl.col('Variable').str.to_uppercase()\n",
    "    ).alias('PK')\n",
    ")\n",
    "\n",
    "# Obtener los valores únicos de 'IdEstablecimiento'\n",
    "id_establecimientos_unicos = df_region.select('IdEstablecimiento').unique()\n",
    "\n",
    "# Crear una lista para almacenar resultados parciales\n",
    "result_list = []\n",
    "\n",
    "# Iterar sobre cada 'IdEstablecimiento'\n",
    "for id_establecimiento in id_establecimientos_unicos['IdEstablecimiento'].to_list():\n",
    "    print(f'Procesando establecimiento {id_establecimiento}...')\n",
    "\n",
    "    # Filtrar el DataFrame para el establecimiento actual\n",
    "    df_melted = df_region.filter(pl.col('IdEstablecimiento') == id_establecimiento)\n",
    "\n",
    "    # Realizar la combinación directamente\n",
    "    df_partial = df_region.join(df_melted, on='PK', how='inner')\n",
    "\n",
    "    # Agregar el resultado parcial a la lista\n",
    "    result_list.append(df_partial)\n",
    "\n",
    "# Concatenar todos los resultados parciales en un solo DataFrame\n",
    "df_final = pl.concat(result_list, how='vertical')\n",
    "\n",
    "# Mostrar el resultado final\n",
    "print(df_final)\n"
   ]
  },
  {
   "cell_type": "code",
   "execution_count": null,
   "metadata": {},
   "outputs": [],
   "source": [
    "#como seria el sql de mi tabla en postgresql\n",
    "'''\n",
    "CREATE TABLE \"A01SA_REM\" (\n",
    "    \"Mes\" INT,\n",
    "    \"IdServicio\" INT,\n",
    "    \"Ano\" INT,\n",
    "    \"IdEstablecimiento_x\" VARCHAR(50),\n",
    "    \"CodigoPrestacion\" VARCHAR(50),\n",
    "    \"IdRegion\" INT,\n",
    "    \"IdComuna\" INT,\n",
    "    \"Variable\" VARCHAR(50),\n",
    "    \"Cantidad\" INT,\n",
    "    \"PK\" VARCHAR(50),\n",
    "    \"Seccion\" VARCHAR(255),\n",
    "    \"CODIGO_PRESTACION\" VARCHAR(50),\n",
    "    \"TIPO_CONTROL\" VARCHAR(50),\n",
    "    \"PROFESIONAL\" VARCHAR(50),\n",
    "    \"Tipo_de_Caracteristica\" VARCHAR(255),\n",
    "    \"Caracteristica\" VARCHAR(255),\n",
    "    \"Atributo\" VARCHAR(255),\n",
    ");\n",
    "\n",
    "select * from \"A01SA_REM\";\n",
    "'''"
   ]
  }
 ],
 "metadata": {
  "kernelspec": {
   "display_name": "Python 3",
   "language": "python",
   "name": "python3"
  },
  "language_info": {
   "codemirror_mode": {
    "name": "ipython",
    "version": 3
   },
   "file_extension": ".py",
   "mimetype": "text/x-python",
   "name": "python",
   "nbconvert_exporter": "python",
   "pygments_lexer": "ipython3",
   "version": "3.10.2"
  }
 },
 "nbformat": 4,
 "nbformat_minor": 4
}
